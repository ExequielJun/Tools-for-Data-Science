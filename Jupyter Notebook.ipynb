{
 "cells": [
  {
   "cell_type": "markdown",
   "metadata": {
    "collapsed": true
   },
   "source": [
    "# My Jupyter Notebook on IBM Watson Studio"
   ]
  },
  {
   "cell_type": "markdown",
   "metadata": {},
   "source": [
    "**Exequiel Jun V. Villejo**\n",
    "\n",
    "Undergraduate Student; Aspiring Data Scientist"
   ]
  },
  {
   "cell_type": "markdown",
   "metadata": {},
   "source": [
    "*I am interested in data science because it is one of the most in-demand professions and highest paying jobs nowadays given that we are now living in the time of big data or that processes are already data-driven. Another reason is that I love working with data ang gaining insights from them.*"
   ]
  },
  {
   "cell_type": "markdown",
   "metadata": {},
   "source": [
    "### The code below computes for the distance between two points."
   ]
  },
  {
   "cell_type": "code",
   "execution_count": 5,
   "metadata": {},
   "outputs": [
    {
     "name": "stdout",
     "output_type": "stream",
     "text": [
      "The distance between (1,2) and (3,4) is: 2.8284271247461903\n"
     ]
    }
   ],
   "source": [
    "import numpy as np\n",
    "\n",
    "def distance(x1, y1, x2, y2):\n",
    "    dis = np.sqrt((x2 - x1)**2 + (y2 - y1)**2)\n",
    "    return dis\n",
    "\n",
    "print(\"The distance between (1,2) and (3,4) is:\", distance(1,2,3,4))"
   ]
  },
  {
   "cell_type": "markdown",
   "metadata": {},
   "source": [
    "~~Michael Jordan is the GOAT.~~ Lebron James is the GOAT."
   ]
  },
  {
   "cell_type": "markdown",
   "metadata": {},
   "source": [
    "[My LinkedIn profile](https://www.linkedin.com/in/exequiel-jun-villejo-832364204/)"
   ]
  },
  {
   "cell_type": "markdown",
   "metadata": {},
   "source": [
    "* Theory of Interest\n",
    "* Advanced Calculus / Elementary Real Analysis\n",
    "* Ordinary Differential Equations"
   ]
  },
  {
   "cell_type": "code",
   "execution_count": null,
   "metadata": {},
   "outputs": [],
   "source": []
  }
 ],
 "metadata": {
  "kernelspec": {
   "display_name": "Python 3.9",
   "language": "python",
   "name": "python3"
  },
  "language_info": {
   "codemirror_mode": {
    "name": "ipython",
    "version": 3
   },
   "file_extension": ".py",
   "mimetype": "text/x-python",
   "name": "python",
   "nbconvert_exporter": "python",
   "pygments_lexer": "ipython3",
   "version": "3.9.12"
  }
 },
 "nbformat": 4,
 "nbformat_minor": 1
}
